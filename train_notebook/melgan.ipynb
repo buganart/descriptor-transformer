{
  "nbformat": 4,
  "nbformat_minor": 0,
  "metadata": {
    "colab": {
      "name": "melgan.ipynb",
      "provenance": [],
      "collapsed_sections": [],
      "machine_shape": "hm",
      "include_colab_link": true
    },
    "kernelspec": {
      "name": "python3",
      "display_name": "Python 3"
    },
    "accelerator": "GPU"
  },
  "cells": [
    {
      "cell_type": "markdown",
      "metadata": {
        "id": "view-in-github",
        "colab_type": "text"
      },
      "source": [
        "<a href=\"https://colab.research.google.com/github/buganart/descriptor-transformer/blob/main/train_notebook/melgan.ipynb\" target=\"_parent\"><img src=\"https://colab.research.google.com/assets/colab-badge.svg\" alt=\"Open In Colab\"/></a>"
      ]
    },
    {
      "cell_type": "code",
      "metadata": {
        "id": "jbp-CL5ijb4e",
        "cellView": "form"
      },
      "source": [
        "#@markdown Before starting please save the notebook in your drive by clicking on `File -> Save a copy in drive`"
      ],
      "execution_count": null,
      "outputs": []
    },
    {
      "cell_type": "code",
      "metadata": {
        "id": "XQ-pH7tyK9xW",
        "cellView": "form"
      },
      "source": [
        "#@markdown Check GPU, should be a Tesla V100\n",
        "!nvidia-smi -L\n",
        "import os\n",
        "print(f\"We have {os.cpu_count()} CPU cores.\")"
      ],
      "execution_count": null,
      "outputs": []
    },
    {
      "cell_type": "code",
      "metadata": {
        "id": "BJyxzcLOhgWY",
        "cellView": "form"
      },
      "source": [
        "#@markdown Mount google drive\n",
        "from google.colab import drive\n",
        "from google.colab import output\n",
        "drive.mount('/content/drive')\n",
        "\n",
        "from pathlib import Path\n",
        "if not Path(\"/content/drive/My Drive/IRCMS_GAN_collaborative_database\").exists():\n",
        "    raise RuntimeError(\n",
        "        \"Shortcut to our shared drive folder doesn't exits.\\n\\n\"\n",
        "        \"\\t1. Go to the google drive web UI\\n\"\n",
        "        \"\\t2. Right click shared folder IRCMS_GAN_collaborative_database and click \\\"Add shortcut to Drive\\\"\"\n",
        "    )\n",
        "\n",
        "def clear_on_success(msg=\"Ok!\"):\n",
        "    if _exit_code == 0:\n",
        "        output.clear()\n",
        "        print(msg)"
      ],
      "execution_count": null,
      "outputs": []
    },
    {
      "cell_type": "code",
      "metadata": {
        "id": "9-L3BlfGTfbJ",
        "cellView": "form"
      },
      "source": [
        "#@markdown Install wandb and log in\n",
        "%pip install wandb\n",
        "output.clear()\n",
        "import wandb\n",
        "from pathlib import Path\n",
        "wandb_drive_netrc_path = Path(\"drive/My Drive/colab/.netrc\")\n",
        "wandb_local_netrc_path = Path(\"/root/.netrc\")\n",
        "if wandb_drive_netrc_path.exists():\n",
        "    import shutil\n",
        "\n",
        "    print(\"Wandb .netrc file found, will use that to log in.\")\n",
        "    shutil.copy(wandb_drive_netrc_path, wandb_local_netrc_path)\n",
        "else:\n",
        "    print(\n",
        "        f\"Wandb config not found at {wandb_drive_netrc_path}.\\n\"\n",
        "        f\"Using manual login.\\n\\n\"\n",
        "        f\"To use auto login in the future, finish the manual login first and then run:\\n\\n\"\n",
        "        f\"\\t!mkdir -p '{wandb_drive_netrc_path.parent}'\\n\"\n",
        "        f\"\\t!cp {wandb_local_netrc_path} '{wandb_drive_netrc_path}'\\n\\n\"\n",
        "        f\"Then that file will be used to login next time.\\n\"\n",
        "    )\n",
        "\n",
        "!wandb login\n",
        "output.clear()\n",
        "print(\"ok!\")"
      ],
      "execution_count": null,
      "outputs": []
    },
    {
      "cell_type": "markdown",
      "metadata": {
        "id": "ebxxv9zGTic1"
      },
      "source": [
        "# Description\n",
        "\n",
        "This notebook is used for training melgan and log results to the wandb project \"demiurge/melgan-neurips\". The [buganart/melgan-neurips](https://github.com/buganart/melgan-neurips) code is based on the [descriptinc/melgan-neurips repository](https://github.com/descriptinc/melgan-neurips).\n",
        "\n",
        "To start training the melgan, user will need to specify **audio_db_dir** to locate a music folder in the mounted Google Drive. All the data in the folder will be used for training and evaluating the model traininig process. **experiment_dir** and **melgan_output_dir** are the path where the data generated from the melgan training process is saved. \n",
        "\n",
        "In case the run is stopped, and the user want to resume such run, please specify wandb run id in the **resume_run_id**. For all the training arguments, please see [descriptinc/melgan-neurips repository](https://github.com/descriptinc/melgan-neurips)."
      ]
    },
    {
      "cell_type": "code",
      "metadata": {
        "id": "BVjGm8m_q9R6",
        "cellView": "form"
      },
      "source": [
        "#@title Configuration\n",
        "\n",
        "#@markdown Directories can be found via file explorer on the left by navigating into `drive` to the desired folders. \n",
        "#@markdown Then right-click and `Copy path`.\n",
        "# audio_db_dir = \"/content/drive/My Drive/AUDIO DATABASE/RAW Sessions/Roberto Studio Material\" #@param {type:\"string\"}\n",
        "audio_db_dir = \"/content/drive/My Drive/AUDIO DATABASE/TESTING\" #@param {type:\"string\"}\n",
        "experiment_dir = \"/content/drive/My Drive/IRCMS_GAN_collaborative_database/Experiments/colab-violingan/melgan\" #@param {type:\"string\"}\n",
        "melgan_output_dir = \"/content/drive/My Drive/IRCMS_GAN_collaborative_database/Experiments/colab-violingan/melgan-outputs\" #@param {type:\"string\"}\n",
        "\n",
        "#@markdown ### Resumption of previous runs\n",
        "#@markdown Optional resumption arguments below, leaving both empty will start a new run from scratch. \n",
        "#@markdown - The ID can be found on wandb. \n",
        "#@markdown - It's 8 characters long and may contain a-z letters and digits (for example `1t212ycn`).\n",
        "\n",
        "#@markdown Resume a previous run \n",
        "resume_run_id = \"\" #@param {type:\"string\"}\n",
        "#@markdown Load initial weights from a previous run to start a new run.\n",
        "load_from_run_id = \"\" #@param {type:\"string\"}\n",
        "\n",
        "#@markdown train argument\n",
        "n_mel_channels = 80 #@param {type: \"integer\"}\n",
        "ngf = 32 #@param {type: \"integer\"}\n",
        "n_residual_layers = 3 #@param {type: \"integer\"}\n",
        "\n",
        "ndf = 16 #@param {type: \"integer\"}\n",
        "num_D = 3 #@param {type: \"integer\"}\n",
        "n_layers_D = 4 #@param {type: \"integer\"}\n",
        "downsamp_factor = 4 #@param {type: \"integer\"}\n",
        "#@markdown - ratios should be list in string format, with product of elements = 256?\n",
        "ratios = \"[8,8,2,2]\" #@param {type: \"string\"}\n",
        "\n",
        "lambda_feat = 10 #@param {type: \"integer\"}\n",
        "#cond_disc: action=\"store_true\"\n",
        "learning_rate = 1e-4 #@param {type: \"number\"}\n",
        "pad_mode = \"reflect\" #@param [\"reflect\", \"replicate\"]\n",
        "\n",
        "batch_size = 16 #@param {type: \"integer\"}\n",
        "seq_len = 8192 #@param {type: \"integer\"}\n",
        "sampling_rate = 44100 #@param {type: \"integer\"}\n",
        "\n",
        "epochs = 3000 #@param {type: \"integer\"}\n",
        "log_interval = 100 #@param {type: \"integer\"}\n",
        "save_interval = 1000 #@param {type: \"integer\"}\n",
        "n_test_samples = 8 #@param {type: \"integer\"}\n",
        "\n",
        "notes = \"\" #@param {type: \"string\"}\n",
        "\n",
        "import re\n",
        "from pathlib import Path\n",
        "\n",
        "audio_db_dir = Path(audio_db_dir)\n",
        "melgan_output_dir = Path(melgan_output_dir)\n",
        "experiment_dir = Path(experiment_dir)\n",
        "\n",
        "#check ratios\n",
        "import numpy as np\n",
        "ratios_str = ratios\n",
        "ratios_str = ratios_str.replace(\" \", \"\")\n",
        "ratios_str = ratios_str.strip(\"][\").split(\",\")\n",
        "ratios_str = [int(i) for i in ratios_str]\n",
        "ratios_str = np.array(ratios_str)\n",
        "\n",
        "\n",
        "for path in [experiment_dir, melgan_output_dir]:\n",
        "    path.mkdir(parents=True, exist_ok=True)\n",
        "\n",
        "if not audio_db_dir.exists():\n",
        "    raise RuntimeError(f\"audio_db_dir {audio_db_dir} does not exists.\")\n",
        "\n",
        "if resume_run_id and load_from_run_id:\n",
        "    raise RuntimeError(\"Only set `resume_run_id` or `load_from_run_id`.\")\n",
        "\n",
        "def check_wandb_id(run_id):\n",
        "    if run_id and not re.match(r\"^[\\da-z]{8}$\", run_id):\n",
        "        raise RuntimeError(\n",
        "            \"Run ID needs to be 8 characters long and contain only letters a-z and digits.\\n\"\n",
        "            f\"Got \\\"{run_id}\\\"\"\n",
        "        )\n",
        "\n",
        "check_wandb_id(resume_run_id)\n",
        "check_wandb_id(load_from_run_id)"
      ],
      "execution_count": null,
      "outputs": []
    },
    {
      "cell_type": "code",
      "metadata": {
        "id": "pBbbEqNZxngL",
        "cellView": "form"
      },
      "source": [
        "#@title Clone melgan repo\n",
        "\n",
        "!git clone https://github.com/buganart/melgan-neurips"
      ],
      "execution_count": null,
      "outputs": []
    },
    {
      "cell_type": "code",
      "metadata": {
        "id": "p1AnyVoom4td",
        "cellView": "form"
      },
      "source": [
        "#@title Install Dependencies\n",
        "\n",
        "%cd /content/melgan-neurips\n",
        "%pip install -r requirements.txt\n",
        "clear_on_success(\"Dependencies installed.\")"
      ],
      "execution_count": null,
      "outputs": []
    },
    {
      "cell_type": "code",
      "metadata": {
        "id": "yhpa_QpwocrO",
        "cellView": "form"
      },
      "source": [
        "#@title Copy audio files to runtime\n",
        "\n",
        "local_wav_dir = Path(\"/content/wavs/\")\n",
        "!find \"{audio_db_dir}\" -maxdepth 1 -type f | xargs -t -d \"\\n\" -I'%%' -P 10 -n 1 rsync -a '%%' \"$local_wav_dir\"/\n",
        "clear_on_success(\"All files copied to this runtime.\")\n"
      ],
      "execution_count": null,
      "outputs": []
    },
    {
      "cell_type": "code",
      "metadata": {
        "id": "DNA9MpHyNhCU",
        "cellView": "form"
      },
      "source": [
        "#@title Split train/test dataset\n",
        "\n",
        "# os.environ[\"WANDB_MODE\"] = \"dryrun\"\n",
        "!python split_dataset.py --data_path \"$local_wav_dir\"\n",
        "\n",
        "print(\"TRAIN FILES\")\n",
        "!head -n3 train_files.txt\n",
        "print('...')\n",
        "!tail -n3 train_files.txt\n",
        "\n",
        "print()\n",
        "print(\"TEST FILES\")\n",
        "!head -n3 test_files.txt\n",
        "print('...')\n",
        "!tail -n3 test_files.txt"
      ],
      "execution_count": null,
      "outputs": []
    },
    {
      "cell_type": "code",
      "metadata": {
        "id": "UsD5T5GpolG0",
        "cellView": "form"
      },
      "source": [
        "#@title TRAIN\n",
        "\n",
        "# This done a bit weirdly because setting PYTHONPATH=$PWD removes variables afterwards. A colab bug, maybe.\n",
        "!env PYTHONPATH=\"$(pwd)\" python scripts/train.py \\\n",
        "--save_path \"$experiment_dir\" \\\n",
        "--data_path . \\\n",
        "--resume_run_id \"$resume_run_id\" \\\n",
        "--load_from_run_id \"$load_from_run_id\" \\\n",
        "--n_mel_channels \"$n_mel_channels\" \\\n",
        "--ngf \"$ngf\" \\\n",
        "--n_residual_layers \"$n_residual_layers\" \\\n",
        "--ndf \"$ndf\" \\\n",
        "--num_D \"$num_D\" \\\n",
        "--n_layers_D \"$n_layers_D\" \\\n",
        "--downsamp_factor \"$downsamp_factor\" \\\n",
        "--ratios \"$ratios\" \\\n",
        "--lambda_feat \"$lambda_feat\" \\\n",
        "--learning_rate \"$learning_rate\" \\\n",
        "--pad_mode \"$pad_mode\" \\\n",
        "--batch_size \"$batch_size\" \\\n",
        "--seq_len \"$seq_len\" \\\n",
        "--sampling_rate \"$sampling_rate\" \\\n",
        "--epochs \"$epochs\" \\\n",
        "--log_interval \"$log_interval\" \\\n",
        "--save_interval \"$save_interval\" \\\n",
        "--n_test_samples \"$n_test_samples\" \\\n",
        "--notes \"$notes\""
      ],
      "execution_count": null,
      "outputs": []
    }
  ]
}