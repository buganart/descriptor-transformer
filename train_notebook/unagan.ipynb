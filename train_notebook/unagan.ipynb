{
  "nbformat": 4,
  "nbformat_minor": 0,
  "metadata": {
    "colab": {
      "name": "unagan.ipynb",
      "provenance": [],
      "collapsed_sections": [],
      "include_colab_link": true
    },
    "kernelspec": {
      "name": "python3",
      "display_name": "Python 3"
    },
    "accelerator": "GPU"
  },
  "cells": [
    {
      "cell_type": "markdown",
      "metadata": {
        "id": "view-in-github",
        "colab_type": "text"
      },
      "source": [
        "<a href=\"https://colab.research.google.com/github/buganart/descriptor-transformer/blob/main/train_notebook/unagan.ipynb\" target=\"_parent\"><img src=\"https://colab.research.google.com/assets/colab-badge.svg\" alt=\"Open In Colab\"/></a>"
      ]
    },
    {
      "cell_type": "code",
      "metadata": {
        "id": "l5hTlhspTbjX",
        "cellView": "form"
      },
      "source": [
        "# @title Setup\n",
        "# @markdown 1. Before starting please save the notebook in your drive by clicking on `File -> Save a copy in drive`\n",
        "# @markdown 2. Check GPU, should be a Tesla V100 if you want to train it as fast as possible.\n",
        "# @markdown 3. Mount google drive.\n",
        "# @markdown 4. Log in to wandb.\n",
        "\n",
        "\n",
        "!nvidia-smi -L\n",
        "import os\n",
        "\n",
        "print(f\"We have {os.cpu_count()} CPU cores.\")\n",
        "print()\n",
        "\n",
        "try:\n",
        "    from google.colab import drive, output\n",
        "\n",
        "    IN_COLAB = True\n",
        "except ImportError:\n",
        "    from IPython.display import clear_output\n",
        "\n",
        "    IN_COLAB = False\n",
        "\n",
        "from pathlib import Path\n",
        "\n",
        "if IN_COLAB:\n",
        "    drive.mount(\"/content/drive/\")\n",
        "\n",
        "    if not Path(\"/content/drive/My Drive/IRCMS_GAN_collaborative_database\").exists():\n",
        "        raise RuntimeError(\n",
        "            \"Shortcut to our shared drive folder doesn't exits.\\n\\n\"\n",
        "            \"\\t1. Go to the google drive web UI\\n\"\n",
        "            '\\t2. Right click shared folder IRCMS_GAN_collaborative_database and click \"Add shortcut to Drive\"'\n",
        "        )\n",
        "\n",
        "clear = output.clear if IN_COLAB else clear_output\n",
        "\n",
        "\n",
        "def clear_on_success(msg=\"Ok!\"):\n",
        "    if _exit_code == 0:\n",
        "        clear()\n",
        "        print(msg)\n",
        "\n",
        "\n",
        "print()\n",
        "print(\"Wandb installation and login ...\")\n",
        "%pip install -q wandb\n",
        "\n",
        "wandb_drive_netrc_path = Path(\"drive/My Drive/colab/.netrc\")\n",
        "wandb_local_netrc_path = Path(\"/root/.netrc\")\n",
        "if wandb_drive_netrc_path.exists():\n",
        "    import shutil\n",
        "\n",
        "    print(\"Wandb .netrc file found, will use that to log in.\")\n",
        "    shutil.copy(wandb_drive_netrc_path, wandb_local_netrc_path)\n",
        "else:\n",
        "    print(\n",
        "        f\"Wandb config not found at {wandb_drive_netrc_path}.\\n\"\n",
        "        f\"Using manual login.\\n\\n\"\n",
        "        f\"To use auto login in the future, finish the manual login first and then run:\\n\\n\"\n",
        "        f\"\\t!mkdir -p '{wandb_drive_netrc_path.parent}'\\n\"\n",
        "        f\"\\t!cp {wandb_local_netrc_path} '{wandb_drive_netrc_path}'\\n\\n\"\n",
        "        f\"Then that file will be used to login next time.\\n\"\n",
        "    )\n",
        "\n",
        "!wandb login"
      ],
      "execution_count": null,
      "outputs": []
    },
    {
      "cell_type": "markdown",
      "metadata": {
        "id": "_H9p0zp1PRHA"
      },
      "source": [
        "# Description\n",
        "\n",
        "This notebook is used for training unagan and log results to the wandb project \"demiurge/unagan\". The [buganart/unagan](https://github.com/buganart/unagan) code is based on the [ciaua/unagan repository](https://github.com/ciaua/unagan).\n",
        "\n",
        "To start training the unagan, user will need to specify **audio_db** to locate a music folder in the mounted Google Drive. All the data in the folder will be used for training and evaluating the model traininig process. In case the run is stopped, and the user want to resume such run, please specify wandb run id in the **resume_run_id**. For all the training arguments, please see [ciaua/unagan repository](https://github.com/ciaua/unagan). \n",
        "\n"
      ]
    },
    {
      "cell_type": "code",
      "metadata": {
        "id": "b2nGSKlz8xJU",
        "cellView": "form"
      },
      "source": [
        "#@title Configuration\n",
        "\n",
        "# Fill in the configuration then Then, select `Runtime` and `Run all` then let it ride!\n",
        "\n",
        "#@markdown #### Training\n",
        "drive = Path('/content/drive/MyDrive')\n",
        "print(f\"Google drive at {drive}\")    \n",
        "\n",
        "drive_audio_db_root = drive\n",
        "collaborative_database = drive / \"IRCMS_GAN_collaborative_database\"\n",
        "violingan_experiment_dir = collaborative_database / \"Experiments\" / \"colab-violingan\"\n",
        "experiment_dir = violingan_experiment_dir / \"unagan\"\n",
        "\n",
        "#@markdown The path of the Audio Database (folder containing .wav files) you'd like to work with\n",
        "audio_db = \"/content/drive/MyDrive/AUDIO DATABASE/TESTING/\" #@param {type:\"string\"}\n",
        "audio_db_dir = Path(audio_db)\n",
        "if not audio_db_dir.exists():\n",
        "    raise RuntimeError(f\"The audio_db_dir {audio_db_dir} does not exist.\")\n",
        "\n",
        "#@markdown [Optional] ID of wandb run to resume. (leave empty to start from scratch)\n",
        "resume_run_id = \"\" #@param {type: \"string\"}\n",
        "\n",
        "#@markdown train argument\n",
        "feat_dim =  80#@param {type: \"integer\"}\n",
        "z_dim = 20 #@param {type: \"integer\"}\n",
        "# z_scale_factors = 2 #@param {type: \"integer\"}\n",
        "num_va = 200 #@param {type: \"integer\"}\n",
        "\n",
        "gamma = 1.0 #@param {type: \"number\"}\n",
        "lambda_k = 0.01 #@param {type: \"number\"}\n",
        "init_k = 0.0 #@param {type: \"number\"}\n",
        "\n",
        "init_lr = 0.001 #@param {type: \"number\"}\n",
        "num_epochs = 200 #@param {type: \"integer\"}\n",
        "\n",
        "lambda_cycle = 1 #@param {type: \"integer\"}\n",
        "max_grad_norm = 3 #@param {type: \"integer\"}\n",
        "save_rate = 20 #@param {type: \"integer\"}\n",
        "batch_size =  10#@param {type: \"integer\"}\n",
        "\n",
        "def check_wandb_id(run_id):\n",
        "    import re\n",
        "    if run_id and not re.match(r\"^[\\da-z]{8}$\", run_id):\n",
        "        raise RuntimeError(\n",
        "            \"Run ID needs to be 8 characters long and contain only letters a-z and digits.\\n\"\n",
        "            f\"Got \\\"{run_id}\\\"\"\n",
        "        )\n",
        "\n",
        "check_wandb_id(resume_run_id)\n",
        "\n",
        "# z_scale_factors = [z_scale_factor, z_scale_factor, z_scale_factor, z_scale_factor]\n",
        "\n",
        "config = dict(\n",
        "    audio_db_dir=audio_db_dir,\n",
        "    resume_run_id=resume_run_id,\n",
        "    feat_dim=feat_dim,\n",
        "    z_dim=z_dim,\n",
        "    num_va=num_va,\n",
        "    gamma=gamma,\n",
        "    lambda_k=lambda_k,\n",
        "    init_k=init_k,\n",
        "    init_lr=init_lr,\n",
        "    num_epochs=num_epochs,\n",
        "    lambda_cycle=lambda_cycle,\n",
        "    max_grad_norm=max_grad_norm,\n",
        "    save_rate=save_rate,\n",
        "    batch_size=batch_size,\n",
        ")\n",
        "for k,v in config.items():\n",
        "    print(f\"=> {k:30}: {v}\")"
      ],
      "execution_count": null,
      "outputs": []
    },
    {
      "cell_type": "code",
      "metadata": {
        "id": "NjxLUZlFBKyP",
        "cellView": "form"
      },
      "source": [
        "#@title Clone unagan repo and Install dependencies\n",
        "\n",
        "# os.environ[\"WANDB_MODE\"] = \"dryrun\"\n",
        "if IN_COLAB:\n",
        "    !git clone https://github.com/buganart/unagan\n",
        "    %cd \"/content/unagan/\"\n",
        "    # !git checkout dev\n",
        "    %pip install -r requirements.txt\n",
        "\n",
        "    clear_on_success(\"Repo cloned! Dependencies installed!\")"
      ],
      "execution_count": null,
      "outputs": []
    },
    {
      "cell_type": "code",
      "metadata": {
        "id": "zgjJlo5QF8I4",
        "cellView": "form"
      },
      "source": [
        "#@title Copy files to local runtime.\n",
        "local_wav_dir = Path(\"data\")\n",
        "local_wav_dir.mkdir(exist_ok=True)\n",
        "!find \"{audio_db_dir}\"/ -maxdepth 1 -type f | xargs -t -d \"\\n\" -I'%%' -P 10 -n 1 rsync -a '%%' \"$local_wav_dir\"/\n",
        "clear_on_success(\"All files copied to this runtime.\")\n",
        "\n",
        "audio_paths = sorted(list(local_wav_dir.glob(\"*\")))\n",
        "num_files = len(audio_paths)\n",
        "print(f\"Database has {num_files} files in total.\")\n"
      ],
      "execution_count": null,
      "outputs": []
    },
    {
      "cell_type": "code",
      "metadata": {
        "id": "HE5EmRGgHBe5",
        "cellView": "form"
      },
      "source": [
        "#@title Collect audio clips.\n",
        "!python scripts/collect_audio_clips.py --audio-dir \"$local_wav_dir\" --extension wav\n",
        "clear_on_success(f\"Done.\")"
      ],
      "execution_count": null,
      "outputs": []
    },
    {
      "cell_type": "code",
      "metadata": {
        "id": "QJBVbFVbUqSM",
        "cellView": "form"
      },
      "source": [
        "#@title Extract mel spectrograms.\n",
        "!python scripts/extract_mel.py --n_mel_channels \"$feat_dim\"\n",
        "clear_on_success(\"Done!\")"
      ],
      "execution_count": null,
      "outputs": []
    },
    {
      "cell_type": "code",
      "metadata": {
        "id": "R0qj2FG4U17Y",
        "cellView": "form"
      },
      "source": [
        "#@title Make dataset\n",
        "!python scripts/make_dataset.py\n",
        "clear_on_success(\"Done!\")"
      ],
      "execution_count": null,
      "outputs": []
    },
    {
      "cell_type": "code",
      "metadata": {
        "id": "ac2KepbFoOrg",
        "cellView": "form"
      },
      "source": [
        "#@title Compute mean and standard deviation\n",
        "!python scripts/compute_mean_std.mel.py\n",
        "clear_on_success(\"Done!\")"
      ],
      "execution_count": null,
      "outputs": []
    },
    {
      "cell_type": "code",
      "metadata": {
        "id": "NOQSMDxHU4UC",
        "cellView": "form"
      },
      "source": [
        "#@title Train\n",
        "\n",
        "!env PYTHONPATH=\".\" python scripts/train.hierarchical_with_cycle.py \\\n",
        "    --model-id \"$resume_run_id\" \\\n",
        "    --audio_db_dir \"$audio_db_dir\" \\\n",
        "    --wandb-dir \"$experiment_dir\" \\\n",
        "    --feat_dim \"$feat_dim\" \\\n",
        "    --z_dim \"$z_dim\" \\\n",
        "    --num_va \"$num_va\" \\\n",
        "    --gamma \"$gamma\" \\\n",
        "    --lambda_k \"$lambda_k\" \\\n",
        "    --init_k \"$init_k\" \\\n",
        "    --init_lr \"$init_lr\" \\\n",
        "    --num_epochs \"$num_epochs\" \\\n",
        "    --lambda_cycle \"$lambda_cycle\" \\\n",
        "    --max_grad_norm \"$max_grad_norm\" \\\n",
        "    --save_rate \"$save_rate\" \\\n",
        "    --batch_size \"$batch_size\""
      ],
      "execution_count": null,
      "outputs": []
    }
  ]
}